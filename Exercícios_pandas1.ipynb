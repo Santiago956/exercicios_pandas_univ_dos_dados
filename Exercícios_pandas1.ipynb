{
 "cells": [
  {
   "cell_type": "markdown",
   "id": "15bc7570-e776-4890-bc7a-11e1be38f93e",
   "metadata": {},
   "source": [
    "# Exercícios com Pandas"
   ]
  },
  {
   "cell_type": "markdown",
   "id": "0a151d7f-2acd-4272-b45e-61ce7bddf703",
   "metadata": {},
   "source": [
    "## Seguros de Saúde"
   ]
  },
  {
   "cell_type": "code",
   "execution_count": 2,
   "id": "5a3b2301-8ee5-42c1-a145-cb066cafd22f",
   "metadata": {},
   "outputs": [],
   "source": [
    "import pandas as pd\n",
    "import numpy as np"
   ]
  },
  {
   "cell_type": "code",
   "execution_count": 3,
   "id": "23f839cc-ec49-44b1-824c-9007378c7b12",
   "metadata": {},
   "outputs": [],
   "source": [
    "df = pd.read_csv(\"data/insurance.csv\")"
   ]
  },
  {
   "cell_type": "code",
   "execution_count": 6,
   "id": "fb1283df-7789-49dc-b887-99f11f29a78d",
   "metadata": {},
   "outputs": [
    {
     "data": {
      "text/html": [
       "<div>\n",
       "<style scoped>\n",
       "    .dataframe tbody tr th:only-of-type {\n",
       "        vertical-align: middle;\n",
       "    }\n",
       "\n",
       "    .dataframe tbody tr th {\n",
       "        vertical-align: top;\n",
       "    }\n",
       "\n",
       "    .dataframe thead th {\n",
       "        text-align: right;\n",
       "    }\n",
       "</style>\n",
       "<table border=\"1\" class=\"dataframe\">\n",
       "  <thead>\n",
       "    <tr style=\"text-align: right;\">\n",
       "      <th></th>\n",
       "      <th>age</th>\n",
       "      <th>sex</th>\n",
       "      <th>bmi</th>\n",
       "      <th>children</th>\n",
       "      <th>smoker</th>\n",
       "      <th>region</th>\n",
       "      <th>charges</th>\n",
       "    </tr>\n",
       "  </thead>\n",
       "  <tbody>\n",
       "    <tr>\n",
       "      <th>0</th>\n",
       "      <td>19</td>\n",
       "      <td>female</td>\n",
       "      <td>27.900</td>\n",
       "      <td>0</td>\n",
       "      <td>yes</td>\n",
       "      <td>southwest</td>\n",
       "      <td>16884.92400</td>\n",
       "    </tr>\n",
       "    <tr>\n",
       "      <th>1</th>\n",
       "      <td>18</td>\n",
       "      <td>male</td>\n",
       "      <td>33.770</td>\n",
       "      <td>1</td>\n",
       "      <td>no</td>\n",
       "      <td>southeast</td>\n",
       "      <td>1725.55230</td>\n",
       "    </tr>\n",
       "    <tr>\n",
       "      <th>2</th>\n",
       "      <td>28</td>\n",
       "      <td>male</td>\n",
       "      <td>33.000</td>\n",
       "      <td>3</td>\n",
       "      <td>no</td>\n",
       "      <td>southeast</td>\n",
       "      <td>4449.46200</td>\n",
       "    </tr>\n",
       "    <tr>\n",
       "      <th>3</th>\n",
       "      <td>33</td>\n",
       "      <td>male</td>\n",
       "      <td>22.705</td>\n",
       "      <td>0</td>\n",
       "      <td>no</td>\n",
       "      <td>northwest</td>\n",
       "      <td>21984.47061</td>\n",
       "    </tr>\n",
       "    <tr>\n",
       "      <th>4</th>\n",
       "      <td>32</td>\n",
       "      <td>male</td>\n",
       "      <td>28.880</td>\n",
       "      <td>0</td>\n",
       "      <td>no</td>\n",
       "      <td>northwest</td>\n",
       "      <td>3866.85520</td>\n",
       "    </tr>\n",
       "  </tbody>\n",
       "</table>\n",
       "</div>"
      ],
      "text/plain": [
       "   age     sex     bmi  children smoker     region      charges\n",
       "0   19  female  27.900         0    yes  southwest  16884.92400\n",
       "1   18    male  33.770         1     no  southeast   1725.55230\n",
       "2   28    male  33.000         3     no  southeast   4449.46200\n",
       "3   33    male  22.705         0     no  northwest  21984.47061\n",
       "4   32    male  28.880         0     no  northwest   3866.85520"
      ]
     },
     "execution_count": 6,
     "metadata": {},
     "output_type": "execute_result"
    }
   ],
   "source": [
    "#Primeiras linhas\n",
    "df.head()"
   ]
  },
  {
   "cell_type": "code",
   "execution_count": 7,
   "id": "5270cdb8-fcd6-46a2-866f-edd34191190c",
   "metadata": {},
   "outputs": [
    {
     "data": {
      "text/html": [
       "<div>\n",
       "<style scoped>\n",
       "    .dataframe tbody tr th:only-of-type {\n",
       "        vertical-align: middle;\n",
       "    }\n",
       "\n",
       "    .dataframe tbody tr th {\n",
       "        vertical-align: top;\n",
       "    }\n",
       "\n",
       "    .dataframe thead th {\n",
       "        text-align: right;\n",
       "    }\n",
       "</style>\n",
       "<table border=\"1\" class=\"dataframe\">\n",
       "  <thead>\n",
       "    <tr style=\"text-align: right;\">\n",
       "      <th></th>\n",
       "      <th>age</th>\n",
       "      <th>sex</th>\n",
       "      <th>bmi</th>\n",
       "      <th>children</th>\n",
       "      <th>smoker</th>\n",
       "      <th>region</th>\n",
       "      <th>charges</th>\n",
       "    </tr>\n",
       "  </thead>\n",
       "  <tbody>\n",
       "    <tr>\n",
       "      <th>1333</th>\n",
       "      <td>50</td>\n",
       "      <td>male</td>\n",
       "      <td>30.97</td>\n",
       "      <td>3</td>\n",
       "      <td>no</td>\n",
       "      <td>northwest</td>\n",
       "      <td>10600.5483</td>\n",
       "    </tr>\n",
       "    <tr>\n",
       "      <th>1334</th>\n",
       "      <td>18</td>\n",
       "      <td>female</td>\n",
       "      <td>31.92</td>\n",
       "      <td>0</td>\n",
       "      <td>no</td>\n",
       "      <td>northeast</td>\n",
       "      <td>2205.9808</td>\n",
       "    </tr>\n",
       "    <tr>\n",
       "      <th>1335</th>\n",
       "      <td>18</td>\n",
       "      <td>female</td>\n",
       "      <td>36.85</td>\n",
       "      <td>0</td>\n",
       "      <td>no</td>\n",
       "      <td>southeast</td>\n",
       "      <td>1629.8335</td>\n",
       "    </tr>\n",
       "    <tr>\n",
       "      <th>1336</th>\n",
       "      <td>21</td>\n",
       "      <td>female</td>\n",
       "      <td>25.80</td>\n",
       "      <td>0</td>\n",
       "      <td>no</td>\n",
       "      <td>southwest</td>\n",
       "      <td>2007.9450</td>\n",
       "    </tr>\n",
       "    <tr>\n",
       "      <th>1337</th>\n",
       "      <td>61</td>\n",
       "      <td>female</td>\n",
       "      <td>29.07</td>\n",
       "      <td>0</td>\n",
       "      <td>yes</td>\n",
       "      <td>northwest</td>\n",
       "      <td>29141.3603</td>\n",
       "    </tr>\n",
       "  </tbody>\n",
       "</table>\n",
       "</div>"
      ],
      "text/plain": [
       "      age     sex    bmi  children smoker     region     charges\n",
       "1333   50    male  30.97         3     no  northwest  10600.5483\n",
       "1334   18  female  31.92         0     no  northeast   2205.9808\n",
       "1335   18  female  36.85         0     no  southeast   1629.8335\n",
       "1336   21  female  25.80         0     no  southwest   2007.9450\n",
       "1337   61  female  29.07         0    yes  northwest  29141.3603"
      ]
     },
     "execution_count": 7,
     "metadata": {},
     "output_type": "execute_result"
    }
   ],
   "source": [
    "#Últimas linhas\n",
    "df.tail()"
   ]
  },
  {
   "cell_type": "code",
   "execution_count": 10,
   "id": "08bf4973-fe84-4b17-ad96-9dabdac22afa",
   "metadata": {},
   "outputs": [
    {
     "name": "stdout",
     "output_type": "stream",
     "text": [
      "<class 'pandas.core.frame.DataFrame'>\n",
      "RangeIndex: 1338 entries, 0 to 1337\n",
      "Data columns (total 7 columns):\n",
      " #   Column    Non-Null Count  Dtype  \n",
      "---  ------    --------------  -----  \n",
      " 0   age       1338 non-null   int64  \n",
      " 1   sex       1338 non-null   object \n",
      " 2   bmi       1338 non-null   float64\n",
      " 3   children  1338 non-null   int64  \n",
      " 4   smoker    1338 non-null   object \n",
      " 5   region    1338 non-null   object \n",
      " 6   charges   1338 non-null   float64\n",
      "dtypes: float64(2), int64(2), object(3)\n",
      "memory usage: 73.3+ KB\n"
     ]
    }
   ],
   "source": [
    "#Memória e valores nulos\n",
    "df.info()"
   ]
  },
  {
   "cell_type": "markdown",
   "id": "841cd500-d50c-4404-9ceb-4300105dac37",
   "metadata": {},
   "source": [
    "Nenhum valor nulo presente no dataset\n",
    "Memória: 73,3Kb"
   ]
  },
  {
   "cell_type": "code",
   "execution_count": 11,
   "id": "9bda881b-82ff-4f93-b2d1-78bbc26344ce",
   "metadata": {},
   "outputs": [
    {
     "data": {
      "text/html": [
       "<div>\n",
       "<style scoped>\n",
       "    .dataframe tbody tr th:only-of-type {\n",
       "        vertical-align: middle;\n",
       "    }\n",
       "\n",
       "    .dataframe tbody tr th {\n",
       "        vertical-align: top;\n",
       "    }\n",
       "\n",
       "    .dataframe thead th {\n",
       "        text-align: right;\n",
       "    }\n",
       "</style>\n",
       "<table border=\"1\" class=\"dataframe\">\n",
       "  <thead>\n",
       "    <tr style=\"text-align: right;\">\n",
       "      <th></th>\n",
       "      <th>age</th>\n",
       "      <th>bmi</th>\n",
       "      <th>children</th>\n",
       "      <th>charges</th>\n",
       "    </tr>\n",
       "  </thead>\n",
       "  <tbody>\n",
       "    <tr>\n",
       "      <th>count</th>\n",
       "      <td>1338.000000</td>\n",
       "      <td>1338.000000</td>\n",
       "      <td>1338.000000</td>\n",
       "      <td>1338.000000</td>\n",
       "    </tr>\n",
       "    <tr>\n",
       "      <th>mean</th>\n",
       "      <td>39.207025</td>\n",
       "      <td>30.663397</td>\n",
       "      <td>1.094918</td>\n",
       "      <td>13270.422265</td>\n",
       "    </tr>\n",
       "    <tr>\n",
       "      <th>std</th>\n",
       "      <td>14.049960</td>\n",
       "      <td>6.098187</td>\n",
       "      <td>1.205493</td>\n",
       "      <td>12110.011237</td>\n",
       "    </tr>\n",
       "    <tr>\n",
       "      <th>min</th>\n",
       "      <td>18.000000</td>\n",
       "      <td>15.960000</td>\n",
       "      <td>0.000000</td>\n",
       "      <td>1121.873900</td>\n",
       "    </tr>\n",
       "    <tr>\n",
       "      <th>25%</th>\n",
       "      <td>27.000000</td>\n",
       "      <td>26.296250</td>\n",
       "      <td>0.000000</td>\n",
       "      <td>4740.287150</td>\n",
       "    </tr>\n",
       "    <tr>\n",
       "      <th>50%</th>\n",
       "      <td>39.000000</td>\n",
       "      <td>30.400000</td>\n",
       "      <td>1.000000</td>\n",
       "      <td>9382.033000</td>\n",
       "    </tr>\n",
       "    <tr>\n",
       "      <th>75%</th>\n",
       "      <td>51.000000</td>\n",
       "      <td>34.693750</td>\n",
       "      <td>2.000000</td>\n",
       "      <td>16639.912515</td>\n",
       "    </tr>\n",
       "    <tr>\n",
       "      <th>max</th>\n",
       "      <td>64.000000</td>\n",
       "      <td>53.130000</td>\n",
       "      <td>5.000000</td>\n",
       "      <td>63770.428010</td>\n",
       "    </tr>\n",
       "  </tbody>\n",
       "</table>\n",
       "</div>"
      ],
      "text/plain": [
       "               age          bmi     children       charges\n",
       "count  1338.000000  1338.000000  1338.000000   1338.000000\n",
       "mean     39.207025    30.663397     1.094918  13270.422265\n",
       "std      14.049960     6.098187     1.205493  12110.011237\n",
       "min      18.000000    15.960000     0.000000   1121.873900\n",
       "25%      27.000000    26.296250     0.000000   4740.287150\n",
       "50%      39.000000    30.400000     1.000000   9382.033000\n",
       "75%      51.000000    34.693750     2.000000  16639.912515\n",
       "max      64.000000    53.130000     5.000000  63770.428010"
      ]
     },
     "execution_count": 11,
     "metadata": {},
     "output_type": "execute_result"
    }
   ],
   "source": [
    "#Estatísticas descritivas\n",
    "df.describe()"
   ]
  },
  {
   "cell_type": "markdown",
   "id": "19349f20-e415-4cbc-930f-ed4529235bfb",
   "metadata": {},
   "source": [
    "Mediana de BMI: 30.4\n",
    "Média de BMI: 30.6\n",
    "\n",
    "A média é ligeiramente maior que a mediana, isso pode significar que os dados não possuem assimetria(?)\n",
    "\n",
    "Correção: Se a média é maior que a mediana, isso pode indicar assimetria à direita. Nesse caso, os dados são quase simétricos, mas ainda possuem uma leve assimetria à direita.\n",
    "\n",
    "### Regras rápidas:\n",
    "\n",
    "- Média ≈ Mediana → distribuição aproximadamente simétrica.\n",
    "\n",
    "- Média > Mediana → cauda longa à direita (assimetria positiva).\n",
    "\n",
    "- Média < Mediana → cauda longa à esquerda (assimetria negativa)."
   ]
  },
  {
   "cell_type": "code",
   "execution_count": 13,
   "id": "98141f6d-789a-42c7-86bb-cd89f27b91f6",
   "metadata": {},
   "outputs": [
    {
     "data": {
      "text/plain": [
       "smoker\n",
       "no     0.795217\n",
       "yes    0.204783\n",
       "Name: proportion, dtype: float64"
      ]
     },
     "execution_count": 13,
     "metadata": {},
     "output_type": "execute_result"
    }
   ],
   "source": [
    "#Proporção de fumantes\n",
    "df['smoker'].value_counts(normalize = True)"
   ]
  },
  {
   "cell_type": "code",
   "execution_count": 17,
   "id": "1d7866f9-9d24-4f7c-9124-c2416aee7368",
   "metadata": {},
   "outputs": [
    {
     "data": {
      "text/plain": [
       "smoker\n",
       "no      8434.268298\n",
       "yes    32050.231832\n",
       "Name: charges, dtype: float64"
      ]
     },
     "execution_count": 17,
     "metadata": {},
     "output_type": "execute_result"
    }
   ],
   "source": [
    "#Diferença de cobrança para fumantes\n",
    "df.groupby('smoker')['charges'].mean()"
   ]
  },
  {
   "cell_type": "markdown",
   "id": "788ac600-5281-4654-a1e3-23225e5a41af",
   "metadata": {},
   "source": [
    "Média de cobrança consideravelmente maior entre fumantes. Considerando que as cobranças são referentes a seguros médicos, é esperado que os custos relativos a fumantes sejam maiores."
   ]
  },
  {
   "cell_type": "code",
   "execution_count": 18,
   "id": "2ba7e065-569a-4aa6-ac2d-73fef12c8b02",
   "metadata": {},
   "outputs": [
    {
     "data": {
      "text/plain": [
       "smoker\n",
       "no     30.651795\n",
       "yes    30.708449\n",
       "Name: bmi, dtype: float64"
      ]
     },
     "execution_count": 18,
     "metadata": {},
     "output_type": "execute_result"
    }
   ],
   "source": [
    "#Média de BMI entre fumantes e não fumantes.\n",
    "df.groupby('smoker')['bmi'].mean()"
   ]
  },
  {
   "cell_type": "markdown",
   "id": "ae03d5e9-dd0b-46f0-b921-ae53e8a7bd4b",
   "metadata": {},
   "source": [
    "A média do índice de massa corporal (BMI) é ligeiramente mais alta entre fumantes, o que pode indicar que estes sejam mais sedentários.\n",
    "\n",
    "Entretanto, a média de ambos estão na faixa de obesidade(>30)."
   ]
  },
  {
   "cell_type": "code",
   "execution_count": 23,
   "id": "019c8e6e-4c6e-40c8-97cf-bb32402afdc5",
   "metadata": {},
   "outputs": [
    {
     "name": "stdout",
     "output_type": "stream",
     "text": [
      "\n",
      "Filhos\n",
      "0 : 12365.97560163589\n",
      "> 1: 13949.941093481675\n",
      "\n",
      "\n"
     ]
    }
   ],
   "source": [
    "#Média de cobrança por quantidade de filhos (0 ou >1)\n",
    "\n",
    "media_sem_filho = df.loc[df['children'] == 0, 'charges'].mean()\n",
    "\n",
    "media_com_filho = df.loc[df['children'] > 0, 'charges'].mean()\n",
    "\n",
    "print(f'''\n",
    "Filhos\n",
    "0 : {media_sem_filho}\n",
    "> 1: {media_com_filho}\n",
    "\n",
    "''')"
   ]
  },
  {
   "cell_type": "markdown",
   "id": "aeb09e20-51ce-47aa-8406-50e02ae5b136",
   "metadata": {},
   "source": [
    "Para segurados com filhos, há uma média de cobrança consideravelmente maior."
   ]
  },
  {
   "cell_type": "code",
   "execution_count": 31,
   "id": "7e3f5ddf-83a7-4295-8128-1a44bea3b9ab",
   "metadata": {},
   "outputs": [
    {
     "data": {
      "text/html": [
       "<div>\n",
       "<style scoped>\n",
       "    .dataframe tbody tr th:only-of-type {\n",
       "        vertical-align: middle;\n",
       "    }\n",
       "\n",
       "    .dataframe tbody tr th {\n",
       "        vertical-align: top;\n",
       "    }\n",
       "\n",
       "    .dataframe thead th {\n",
       "        text-align: right;\n",
       "    }\n",
       "</style>\n",
       "<table border=\"1\" class=\"dataframe\">\n",
       "  <thead>\n",
       "    <tr style=\"text-align: right;\">\n",
       "      <th></th>\n",
       "      <th>age</th>\n",
       "      <th>sex</th>\n",
       "      <th>bmi</th>\n",
       "      <th>children</th>\n",
       "      <th>smoker</th>\n",
       "      <th>region</th>\n",
       "      <th>charges</th>\n",
       "      <th>bmi_male</th>\n",
       "    </tr>\n",
       "  </thead>\n",
       "  <tbody>\n",
       "    <tr>\n",
       "      <th>0</th>\n",
       "      <td>19</td>\n",
       "      <td>female</td>\n",
       "      <td>27.900</td>\n",
       "      <td>0</td>\n",
       "      <td>yes</td>\n",
       "      <td>southwest</td>\n",
       "      <td>16884.92400</td>\n",
       "      <td>NaN</td>\n",
       "    </tr>\n",
       "    <tr>\n",
       "      <th>1</th>\n",
       "      <td>18</td>\n",
       "      <td>male</td>\n",
       "      <td>33.770</td>\n",
       "      <td>1</td>\n",
       "      <td>no</td>\n",
       "      <td>southeast</td>\n",
       "      <td>1725.55230</td>\n",
       "      <td>acima do normal</td>\n",
       "    </tr>\n",
       "    <tr>\n",
       "      <th>2</th>\n",
       "      <td>28</td>\n",
       "      <td>male</td>\n",
       "      <td>33.000</td>\n",
       "      <td>3</td>\n",
       "      <td>no</td>\n",
       "      <td>southeast</td>\n",
       "      <td>4449.46200</td>\n",
       "      <td>acima do normal</td>\n",
       "    </tr>\n",
       "    <tr>\n",
       "      <th>3</th>\n",
       "      <td>33</td>\n",
       "      <td>male</td>\n",
       "      <td>22.705</td>\n",
       "      <td>0</td>\n",
       "      <td>no</td>\n",
       "      <td>northwest</td>\n",
       "      <td>21984.47061</td>\n",
       "      <td>normal</td>\n",
       "    </tr>\n",
       "    <tr>\n",
       "      <th>4</th>\n",
       "      <td>32</td>\n",
       "      <td>male</td>\n",
       "      <td>28.880</td>\n",
       "      <td>0</td>\n",
       "      <td>no</td>\n",
       "      <td>northwest</td>\n",
       "      <td>3866.85520</td>\n",
       "      <td>acima do normal</td>\n",
       "    </tr>\n",
       "  </tbody>\n",
       "</table>\n",
       "</div>"
      ],
      "text/plain": [
       "   age     sex     bmi  children smoker     region      charges  \\\n",
       "0   19  female  27.900         0    yes  southwest  16884.92400   \n",
       "1   18    male  33.770         1     no  southeast   1725.55230   \n",
       "2   28    male  33.000         3     no  southeast   4449.46200   \n",
       "3   33    male  22.705         0     no  northwest  21984.47061   \n",
       "4   32    male  28.880         0     no  northwest   3866.85520   \n",
       "\n",
       "          bmi_male  \n",
       "0              NaN  \n",
       "1  acima do normal  \n",
       "2  acima do normal  \n",
       "3           normal  \n",
       "4  acima do normal  "
      ]
     },
     "execution_count": 31,
     "metadata": {},
     "output_type": "execute_result"
    }
   ],
   "source": [
    "#Classificação por BMI para homens\n",
    "\n",
    "df['bmi_male'] = np.where(\n",
    "    df['sex'] == 'male',\n",
    "    df['bmi'],\n",
    "    np.nan\n",
    ")\n",
    "\n",
    "df['bmi_male'] = df['bmi_male'].apply(\n",
    "    lambda x: np.nan if pd.isna(x) else\n",
    "                    'abaixo do normal' if x < 20 else\n",
    "                    'normal' if 20 <= x < 24.9 else\n",
    "                    'acima do normal'\n",
    "                    )\n",
    "\n",
    "df.head()"
   ]
  },
  {
   "cell_type": "code",
   "execution_count": 38,
   "id": "6989ea42-4f7c-429a-a5d0-fa67ebd21f97",
   "metadata": {},
   "outputs": [
    {
     "name": "stdout",
     "output_type": "stream",
     "text": [
      "Na categoria de homens, fumantes e com BMI acima do normal, temos um total de 136 indivíduos.\n"
     ]
    }
   ],
   "source": [
    "#Quantidade de homens fumantes e com BMI acima do normal\n",
    "qnt_indicador = df.loc[((df['smoker'] == 'yes') & (df['sex'] == 'male') & (df['bmi_male'] == 'acima do normal'))].shape[0]\n",
    "\n",
    "print(f'Na categoria de homens, fumantes e com BMI acima do normal, temos um total de {indicador} indivíduos.')"
   ]
  },
  {
   "cell_type": "markdown",
   "id": "881c5aef-d227-4f36-bd93-aacb5f3cf6a6",
   "metadata": {},
   "source": [
    "## Incêndios Florestais"
   ]
  },
  {
   "cell_type": "code",
   "execution_count": 40,
   "id": "c4949412-a4b2-467b-bda6-4c8eaac58a0f",
   "metadata": {},
   "outputs": [],
   "source": [
    "df_2 = pd.read_csv(\"data/amazon.csv\", encoding =\"latin1\")"
   ]
  },
  {
   "cell_type": "code",
   "execution_count": 44,
   "id": "b6dc77de-515d-44a2-a059-d7d999259254",
   "metadata": {},
   "outputs": [
    {
     "data": {
      "text/html": [
       "<div>\n",
       "<style scoped>\n",
       "    .dataframe tbody tr th:only-of-type {\n",
       "        vertical-align: middle;\n",
       "    }\n",
       "\n",
       "    .dataframe tbody tr th {\n",
       "        vertical-align: top;\n",
       "    }\n",
       "\n",
       "    .dataframe thead th {\n",
       "        text-align: right;\n",
       "    }\n",
       "</style>\n",
       "<table border=\"1\" class=\"dataframe\">\n",
       "  <thead>\n",
       "    <tr style=\"text-align: right;\">\n",
       "      <th></th>\n",
       "      <th>year</th>\n",
       "      <th>state</th>\n",
       "      <th>month</th>\n",
       "      <th>number</th>\n",
       "      <th>date</th>\n",
       "    </tr>\n",
       "  </thead>\n",
       "  <tbody>\n",
       "    <tr>\n",
       "      <th>0</th>\n",
       "      <td>1998</td>\n",
       "      <td>Acre</td>\n",
       "      <td>Janeiro</td>\n",
       "      <td>0.0</td>\n",
       "      <td>1998-01-01</td>\n",
       "    </tr>\n",
       "    <tr>\n",
       "      <th>1</th>\n",
       "      <td>1999</td>\n",
       "      <td>Acre</td>\n",
       "      <td>Janeiro</td>\n",
       "      <td>0.0</td>\n",
       "      <td>1999-01-01</td>\n",
       "    </tr>\n",
       "    <tr>\n",
       "      <th>2</th>\n",
       "      <td>2000</td>\n",
       "      <td>Acre</td>\n",
       "      <td>Janeiro</td>\n",
       "      <td>0.0</td>\n",
       "      <td>2000-01-01</td>\n",
       "    </tr>\n",
       "    <tr>\n",
       "      <th>3</th>\n",
       "      <td>2001</td>\n",
       "      <td>Acre</td>\n",
       "      <td>Janeiro</td>\n",
       "      <td>0.0</td>\n",
       "      <td>2001-01-01</td>\n",
       "    </tr>\n",
       "    <tr>\n",
       "      <th>4</th>\n",
       "      <td>2002</td>\n",
       "      <td>Acre</td>\n",
       "      <td>Janeiro</td>\n",
       "      <td>0.0</td>\n",
       "      <td>2002-01-01</td>\n",
       "    </tr>\n",
       "  </tbody>\n",
       "</table>\n",
       "</div>"
      ],
      "text/plain": [
       "   year state    month  number        date\n",
       "0  1998  Acre  Janeiro     0.0  1998-01-01\n",
       "1  1999  Acre  Janeiro     0.0  1999-01-01\n",
       "2  2000  Acre  Janeiro     0.0  2000-01-01\n",
       "3  2001  Acre  Janeiro     0.0  2001-01-01\n",
       "4  2002  Acre  Janeiro     0.0  2002-01-01"
      ]
     },
     "execution_count": 44,
     "metadata": {},
     "output_type": "execute_result"
    }
   ],
   "source": [
    "df_2.head()"
   ]
  },
  {
   "cell_type": "code",
   "execution_count": 83,
   "id": "12e521fb-710d-4dd7-a163-b99d53ae69d0",
   "metadata": {},
   "outputs": [
    {
     "data": {
      "text/plain": [
       "array(['Acre', 'Alagoas', 'Amapa', 'Amazonas', 'Bahia', 'Ceara',\n",
       "       'Distrito Federal', 'Espirito Santo', 'Goias', 'Maranhao',\n",
       "       'Mato Grosso', 'Minas Gerais', 'Pará', 'Paraiba', 'Pernambuco',\n",
       "       'Piau', 'Rio', 'Rondonia', 'Roraima', 'Santa Catarina',\n",
       "       'Sao Paulo', 'Sergipe', 'Tocantins'], dtype=object)"
      ]
     },
     "execution_count": 83,
     "metadata": {},
     "output_type": "execute_result"
    }
   ],
   "source": [
    "df_2['state'].unique()"
   ]
  },
  {
   "cell_type": "code",
   "execution_count": 42,
   "id": "013ada08-07d2-438b-9e59-c541ed3dc514",
   "metadata": {},
   "outputs": [
    {
     "name": "stdout",
     "output_type": "stream",
     "text": [
      "Esse dataset contém um total de 6454 linhas e 5 colunas.\n"
     ]
    }
   ],
   "source": [
    "print(f\"Esse dataset contém um total de {df_2.shape[0]} linhas e {df_2.shape[1]} colunas.\")"
   ]
  },
  {
   "cell_type": "markdown",
   "id": "e1b08e4d-58b2-4b5d-aa86-c182a60bd5cf",
   "metadata": {},
   "source": [
    "- Selecionar linhas 100 a 120, coluna 2,3,4 usando loc e iloc"
   ]
  },
  {
   "cell_type": "code",
   "execution_count": 55,
   "id": "3b54ec14-22f8-4c4c-bc07-4f4da706ec4c",
   "metadata": {},
   "outputs": [
    {
     "data": {
      "text/html": [
       "<div>\n",
       "<style scoped>\n",
       "    .dataframe tbody tr th:only-of-type {\n",
       "        vertical-align: middle;\n",
       "    }\n",
       "\n",
       "    .dataframe tbody tr th {\n",
       "        vertical-align: top;\n",
       "    }\n",
       "\n",
       "    .dataframe thead th {\n",
       "        text-align: right;\n",
       "    }\n",
       "</style>\n",
       "<table border=\"1\" class=\"dataframe\">\n",
       "  <thead>\n",
       "    <tr style=\"text-align: right;\">\n",
       "      <th></th>\n",
       "      <th>state</th>\n",
       "      <th>month</th>\n",
       "      <th>number</th>\n",
       "    </tr>\n",
       "  </thead>\n",
       "  <tbody>\n",
       "    <tr>\n",
       "      <th>100</th>\n",
       "      <td>Acre</td>\n",
       "      <td>Junho</td>\n",
       "      <td>3.0</td>\n",
       "    </tr>\n",
       "    <tr>\n",
       "      <th>101</th>\n",
       "      <td>Acre</td>\n",
       "      <td>Junho</td>\n",
       "      <td>0.0</td>\n",
       "    </tr>\n",
       "    <tr>\n",
       "      <th>102</th>\n",
       "      <td>Acre</td>\n",
       "      <td>Junho</td>\n",
       "      <td>1.0</td>\n",
       "    </tr>\n",
       "    <tr>\n",
       "      <th>103</th>\n",
       "      <td>Acre</td>\n",
       "      <td>Junho</td>\n",
       "      <td>1.0</td>\n",
       "    </tr>\n",
       "    <tr>\n",
       "      <th>104</th>\n",
       "      <td>Acre</td>\n",
       "      <td>Junho</td>\n",
       "      <td>0.0</td>\n",
       "    </tr>\n",
       "    <tr>\n",
       "      <th>105</th>\n",
       "      <td>Acre</td>\n",
       "      <td>Junho</td>\n",
       "      <td>0.0</td>\n",
       "    </tr>\n",
       "    <tr>\n",
       "      <th>106</th>\n",
       "      <td>Acre</td>\n",
       "      <td>Junho</td>\n",
       "      <td>5.0</td>\n",
       "    </tr>\n",
       "    <tr>\n",
       "      <th>107</th>\n",
       "      <td>Acre</td>\n",
       "      <td>Junho</td>\n",
       "      <td>27.0</td>\n",
       "    </tr>\n",
       "    <tr>\n",
       "      <th>108</th>\n",
       "      <td>Acre</td>\n",
       "      <td>Junho</td>\n",
       "      <td>1.0</td>\n",
       "    </tr>\n",
       "    <tr>\n",
       "      <th>109</th>\n",
       "      <td>Acre</td>\n",
       "      <td>Junho</td>\n",
       "      <td>4.0</td>\n",
       "    </tr>\n",
       "    <tr>\n",
       "      <th>110</th>\n",
       "      <td>Acre</td>\n",
       "      <td>Junho</td>\n",
       "      <td>0.0</td>\n",
       "    </tr>\n",
       "    <tr>\n",
       "      <th>111</th>\n",
       "      <td>Acre</td>\n",
       "      <td>Junho</td>\n",
       "      <td>0.0</td>\n",
       "    </tr>\n",
       "    <tr>\n",
       "      <th>112</th>\n",
       "      <td>Acre</td>\n",
       "      <td>Junho</td>\n",
       "      <td>1.0</td>\n",
       "    </tr>\n",
       "    <tr>\n",
       "      <th>113</th>\n",
       "      <td>Acre</td>\n",
       "      <td>Junho</td>\n",
       "      <td>10.0</td>\n",
       "    </tr>\n",
       "    <tr>\n",
       "      <th>114</th>\n",
       "      <td>Acre</td>\n",
       "      <td>Junho</td>\n",
       "      <td>7.0</td>\n",
       "    </tr>\n",
       "    <tr>\n",
       "      <th>115</th>\n",
       "      <td>Acre</td>\n",
       "      <td>Junho</td>\n",
       "      <td>8.0</td>\n",
       "    </tr>\n",
       "    <tr>\n",
       "      <th>116</th>\n",
       "      <td>Acre</td>\n",
       "      <td>Junho</td>\n",
       "      <td>17.0</td>\n",
       "    </tr>\n",
       "    <tr>\n",
       "      <th>117</th>\n",
       "      <td>Acre</td>\n",
       "      <td>Junho</td>\n",
       "      <td>40.0</td>\n",
       "    </tr>\n",
       "    <tr>\n",
       "      <th>118</th>\n",
       "      <td>Acre</td>\n",
       "      <td>Junho</td>\n",
       "      <td>87.0</td>\n",
       "    </tr>\n",
       "    <tr>\n",
       "      <th>119</th>\n",
       "      <td>Acre</td>\n",
       "      <td>Junho</td>\n",
       "      <td>45.0</td>\n",
       "    </tr>\n",
       "    <tr>\n",
       "      <th>120</th>\n",
       "      <td>Acre</td>\n",
       "      <td>Julho</td>\n",
       "      <td>37.0</td>\n",
       "    </tr>\n",
       "  </tbody>\n",
       "</table>\n",
       "</div>"
      ],
      "text/plain": [
       "    state  month  number\n",
       "100  Acre  Junho     3.0\n",
       "101  Acre  Junho     0.0\n",
       "102  Acre  Junho     1.0\n",
       "103  Acre  Junho     1.0\n",
       "104  Acre  Junho     0.0\n",
       "105  Acre  Junho     0.0\n",
       "106  Acre  Junho     5.0\n",
       "107  Acre  Junho    27.0\n",
       "108  Acre  Junho     1.0\n",
       "109  Acre  Junho     4.0\n",
       "110  Acre  Junho     0.0\n",
       "111  Acre  Junho     0.0\n",
       "112  Acre  Junho     1.0\n",
       "113  Acre  Junho    10.0\n",
       "114  Acre  Junho     7.0\n",
       "115  Acre  Junho     8.0\n",
       "116  Acre  Junho    17.0\n",
       "117  Acre  Junho    40.0\n",
       "118  Acre  Junho    87.0\n",
       "119  Acre  Junho    45.0\n",
       "120  Acre  Julho    37.0"
      ]
     },
     "execution_count": 55,
     "metadata": {},
     "output_type": "execute_result"
    }
   ],
   "source": [
    "df_2.loc[100:120, ['state', 'month', 'number']]"
   ]
  },
  {
   "cell_type": "code",
   "execution_count": 53,
   "id": "a2ef993a-84af-4282-a1c0-8c20ed1b01b5",
   "metadata": {},
   "outputs": [
    {
     "data": {
      "text/html": [
       "<div>\n",
       "<style scoped>\n",
       "    .dataframe tbody tr th:only-of-type {\n",
       "        vertical-align: middle;\n",
       "    }\n",
       "\n",
       "    .dataframe tbody tr th {\n",
       "        vertical-align: top;\n",
       "    }\n",
       "\n",
       "    .dataframe thead th {\n",
       "        text-align: right;\n",
       "    }\n",
       "</style>\n",
       "<table border=\"1\" class=\"dataframe\">\n",
       "  <thead>\n",
       "    <tr style=\"text-align: right;\">\n",
       "      <th></th>\n",
       "      <th>state</th>\n",
       "      <th>month</th>\n",
       "      <th>number</th>\n",
       "    </tr>\n",
       "  </thead>\n",
       "  <tbody>\n",
       "    <tr>\n",
       "      <th>100</th>\n",
       "      <td>Acre</td>\n",
       "      <td>Junho</td>\n",
       "      <td>3.0</td>\n",
       "    </tr>\n",
       "    <tr>\n",
       "      <th>101</th>\n",
       "      <td>Acre</td>\n",
       "      <td>Junho</td>\n",
       "      <td>0.0</td>\n",
       "    </tr>\n",
       "    <tr>\n",
       "      <th>102</th>\n",
       "      <td>Acre</td>\n",
       "      <td>Junho</td>\n",
       "      <td>1.0</td>\n",
       "    </tr>\n",
       "    <tr>\n",
       "      <th>103</th>\n",
       "      <td>Acre</td>\n",
       "      <td>Junho</td>\n",
       "      <td>1.0</td>\n",
       "    </tr>\n",
       "    <tr>\n",
       "      <th>104</th>\n",
       "      <td>Acre</td>\n",
       "      <td>Junho</td>\n",
       "      <td>0.0</td>\n",
       "    </tr>\n",
       "    <tr>\n",
       "      <th>105</th>\n",
       "      <td>Acre</td>\n",
       "      <td>Junho</td>\n",
       "      <td>0.0</td>\n",
       "    </tr>\n",
       "    <tr>\n",
       "      <th>106</th>\n",
       "      <td>Acre</td>\n",
       "      <td>Junho</td>\n",
       "      <td>5.0</td>\n",
       "    </tr>\n",
       "    <tr>\n",
       "      <th>107</th>\n",
       "      <td>Acre</td>\n",
       "      <td>Junho</td>\n",
       "      <td>27.0</td>\n",
       "    </tr>\n",
       "    <tr>\n",
       "      <th>108</th>\n",
       "      <td>Acre</td>\n",
       "      <td>Junho</td>\n",
       "      <td>1.0</td>\n",
       "    </tr>\n",
       "    <tr>\n",
       "      <th>109</th>\n",
       "      <td>Acre</td>\n",
       "      <td>Junho</td>\n",
       "      <td>4.0</td>\n",
       "    </tr>\n",
       "    <tr>\n",
       "      <th>110</th>\n",
       "      <td>Acre</td>\n",
       "      <td>Junho</td>\n",
       "      <td>0.0</td>\n",
       "    </tr>\n",
       "    <tr>\n",
       "      <th>111</th>\n",
       "      <td>Acre</td>\n",
       "      <td>Junho</td>\n",
       "      <td>0.0</td>\n",
       "    </tr>\n",
       "    <tr>\n",
       "      <th>112</th>\n",
       "      <td>Acre</td>\n",
       "      <td>Junho</td>\n",
       "      <td>1.0</td>\n",
       "    </tr>\n",
       "    <tr>\n",
       "      <th>113</th>\n",
       "      <td>Acre</td>\n",
       "      <td>Junho</td>\n",
       "      <td>10.0</td>\n",
       "    </tr>\n",
       "    <tr>\n",
       "      <th>114</th>\n",
       "      <td>Acre</td>\n",
       "      <td>Junho</td>\n",
       "      <td>7.0</td>\n",
       "    </tr>\n",
       "    <tr>\n",
       "      <th>115</th>\n",
       "      <td>Acre</td>\n",
       "      <td>Junho</td>\n",
       "      <td>8.0</td>\n",
       "    </tr>\n",
       "    <tr>\n",
       "      <th>116</th>\n",
       "      <td>Acre</td>\n",
       "      <td>Junho</td>\n",
       "      <td>17.0</td>\n",
       "    </tr>\n",
       "    <tr>\n",
       "      <th>117</th>\n",
       "      <td>Acre</td>\n",
       "      <td>Junho</td>\n",
       "      <td>40.0</td>\n",
       "    </tr>\n",
       "    <tr>\n",
       "      <th>118</th>\n",
       "      <td>Acre</td>\n",
       "      <td>Junho</td>\n",
       "      <td>87.0</td>\n",
       "    </tr>\n",
       "    <tr>\n",
       "      <th>119</th>\n",
       "      <td>Acre</td>\n",
       "      <td>Junho</td>\n",
       "      <td>45.0</td>\n",
       "    </tr>\n",
       "    <tr>\n",
       "      <th>120</th>\n",
       "      <td>Acre</td>\n",
       "      <td>Julho</td>\n",
       "      <td>37.0</td>\n",
       "    </tr>\n",
       "  </tbody>\n",
       "</table>\n",
       "</div>"
      ],
      "text/plain": [
       "    state  month  number\n",
       "100  Acre  Junho     3.0\n",
       "101  Acre  Junho     0.0\n",
       "102  Acre  Junho     1.0\n",
       "103  Acre  Junho     1.0\n",
       "104  Acre  Junho     0.0\n",
       "105  Acre  Junho     0.0\n",
       "106  Acre  Junho     5.0\n",
       "107  Acre  Junho    27.0\n",
       "108  Acre  Junho     1.0\n",
       "109  Acre  Junho     4.0\n",
       "110  Acre  Junho     0.0\n",
       "111  Acre  Junho     0.0\n",
       "112  Acre  Junho     1.0\n",
       "113  Acre  Junho    10.0\n",
       "114  Acre  Junho     7.0\n",
       "115  Acre  Junho     8.0\n",
       "116  Acre  Junho    17.0\n",
       "117  Acre  Junho    40.0\n",
       "118  Acre  Junho    87.0\n",
       "119  Acre  Junho    45.0\n",
       "120  Acre  Julho    37.0"
      ]
     },
     "execution_count": 53,
     "metadata": {},
     "output_type": "execute_result"
    }
   ],
   "source": [
    "#iloc não considera o último índice\n",
    "df_2.iloc[100:121, [1, 2, 3]]"
   ]
  },
  {
   "cell_type": "code",
   "execution_count": 62,
   "id": "950a1cdf-c202-44e8-901b-3a16f29fda98",
   "metadata": {},
   "outputs": [
    {
     "data": {
      "text/plain": [
       "37037.449"
      ]
     },
     "execution_count": 62,
     "metadata": {},
     "output_type": "execute_result"
    }
   ],
   "source": [
    "# Total de incêndios no Brasil no ano de 2010\n",
    "\n",
    "df_2.loc[(df_2['year'] == 2010), 'number'].sum()"
   ]
  },
  {
   "cell_type": "code",
   "execution_count": 64,
   "id": "2ec4bbbc-41e6-4a98-a7de-3f1dac054842",
   "metadata": {},
   "outputs": [
    {
     "data": {
      "text/plain": [
       "6252.445"
      ]
     },
     "execution_count": 64,
     "metadata": {},
     "output_type": "execute_result"
    }
   ],
   "source": [
    "# Total de incêndios no Mato Grosso no ano de 2010\n",
    "\n",
    "df_2.loc[(df_2['state'] == 'Mato Grosso') & (df_2['year'] == 2010), 'number' ].sum()"
   ]
  },
  {
   "cell_type": "code",
   "execution_count": 72,
   "id": "a0490ef9-25d8-4cdd-9c43-130ffc13fa62",
   "metadata": {},
   "outputs": [
    {
     "data": {
      "text/plain": [
       "month\n",
       "Abril          2.050000\n",
       "Agosto       319.651700\n",
       "Dezembro       2.473684\n",
       "Fevereiro      0.950000\n",
       "Janeiro        2.000000\n",
       "Julho        114.800000\n",
       "Junho         12.850000\n",
       "Maio           4.050000\n",
       "Março          1.150000\n",
       "Novembro      35.400000\n",
       "Outubro      362.325400\n",
       "Setembro      65.624400\n",
       "Name: number, dtype: float64"
      ]
     },
     "execution_count": 72,
     "metadata": {},
     "output_type": "execute_result"
    }
   ],
   "source": [
    "# Média de incêndios por mês no Acre\n",
    "acre = df_2[df_2['state'] == 'Acre']\n",
    "\n",
    "acre.groupby('month')['number'].mean()"
   ]
  },
  {
   "cell_type": "code",
   "execution_count": 70,
   "id": "5a458758-613a-47b8-9e14-224d7e25c387",
   "metadata": {},
   "outputs": [
    {
     "data": {
      "text/plain": [
       "month\n",
       "Abril          4.334379\n",
       "Agosto       336.205557\n",
       "Dezembro       2.893833\n",
       "Fevereiro      1.637553\n",
       "Janeiro        4.142209\n",
       "Julho        153.931837\n",
       "Junho         21.976722\n",
       "Maio           5.114222\n",
       "Março          2.497894\n",
       "Novembro      36.864474\n",
       "Outubro      265.668310\n",
       "Setembro     139.748975\n",
       "Name: number, dtype: float64"
      ]
     },
     "execution_count": 70,
     "metadata": {},
     "output_type": "execute_result"
    }
   ],
   "source": [
    "# Desvio padrão\n",
    "acre.groupby('month')['number'].std()"
   ]
  },
  {
   "cell_type": "code",
   "execution_count": 89,
   "id": "b98af1ce-ff75-4a30-964d-9e24f4ff72ca",
   "metadata": {},
   "outputs": [
    {
     "data": {
      "text/plain": [
       "state\n",
       "Acre                 76.943765\n",
       "Alagoas              19.376284\n",
       "Amapa                91.952619\n",
       "Amazonas            128.196590\n",
       "Bahia               187.442479\n",
       "Ceara               127.935171\n",
       "Distrito Federal     14.838596\n",
       "Espirito Santo       27.327412\n",
       "Goias               157.285500\n",
       "Maranhao            104.887538\n",
       "Mato Grosso         201.345319\n",
       "Minas Gerais        156.582654\n",
       "Paraiba             109.704434\n",
       "Pará                102.614267\n",
       "Pernambuco          102.807456\n",
       "Piau                159.057279\n",
       "Rio                  62.994850\n",
       "Rondonia             84.867577\n",
       "Roraima             102.125747\n",
       "Santa Catarina      101.672410\n",
       "Sao Paulo           213.226264\n",
       "Sergipe              13.603070\n",
       "Tocantins           140.789214\n",
       "Name: number, dtype: float64"
      ]
     },
     "execution_count": 89,
     "metadata": {},
     "output_type": "execute_result"
    }
   ],
   "source": [
    "# Média de incêndios por estado\n",
    "\n",
    "media_mensal_estado = df_2.groupby(['state', 'month'])['number'].mean()\n",
    "\n",
    "media_por_estado = media_mensal_estado.groupby('state').mean()\n",
    "\n",
    "media_por_estado.head(30)"
   ]
  },
  {
   "cell_type": "code",
   "execution_count": 88,
   "id": "8c1ce6b2-a2d5-4540-be3d-90710f286b76",
   "metadata": {},
   "outputs": [
    {
     "name": "stdout",
     "output_type": "stream",
     "text": [
      "O estado com maior média mensal é Sao Paulo, com uma média de 213.23 incêndios por mês\n",
      "O estado com menor média mensal é Sergipe, com uma média de 13.60 incêndios por mês\n"
     ]
    }
   ],
   "source": [
    "print(f\"O estado com maior média mensal é {media_por_estado.idxmax()}, com uma média de {media_por_estado.max():.2f} incêndios por mês\")\n",
    "print(f\"O estado com menor média mensal é {media_por_estado.idxmin()}, com uma média de {media_por_estado.min():.2f} incêndios por mês\")"
   ]
  },
  {
   "cell_type": "code",
   "execution_count": 93,
   "id": "90526b02-ae5f-4eed-8b3c-cf4d003a44e9",
   "metadata": {},
   "outputs": [],
   "source": [
    "#Criando coluna sudeste\n",
    "\n",
    "df_2['regiao_sudeste'] = np.where(\n",
    "    df_2['state'].isin(['Rio', 'Sao Paulo', 'Minas Gerais', 'Espirito Santo']),\n",
    "    1,\n",
    "    0\n",
    ")"
   ]
  },
  {
   "cell_type": "code",
   "execution_count": 94,
   "id": "57f181fb-f393-41e4-8d1b-f825398cf2e3",
   "metadata": {},
   "outputs": [],
   "source": [
    "#Criando coluna centro-oeste\n",
    "\n",
    "df_2['regiao_centro-oeste'] = np.where(\n",
    "    df_2['state'].isin(['Mato Grosso', 'Distrito Federal', 'Goias']),\n",
    "    1,\n",
    "    0\n",
    ")"
   ]
  },
  {
   "cell_type": "code",
   "execution_count": 95,
   "id": "4df65721-5771-4fb9-b869-1bbac9b17dd5",
   "metadata": {},
   "outputs": [
    {
     "data": {
      "text/html": [
       "<div>\n",
       "<style scoped>\n",
       "    .dataframe tbody tr th:only-of-type {\n",
       "        vertical-align: middle;\n",
       "    }\n",
       "\n",
       "    .dataframe tbody tr th {\n",
       "        vertical-align: top;\n",
       "    }\n",
       "\n",
       "    .dataframe thead th {\n",
       "        text-align: right;\n",
       "    }\n",
       "</style>\n",
       "<table border=\"1\" class=\"dataframe\">\n",
       "  <thead>\n",
       "    <tr style=\"text-align: right;\">\n",
       "      <th></th>\n",
       "      <th>year</th>\n",
       "      <th>state</th>\n",
       "      <th>month</th>\n",
       "      <th>number</th>\n",
       "      <th>date</th>\n",
       "      <th>regiao_sudeste</th>\n",
       "      <th>regiao_centro-oeste</th>\n",
       "    </tr>\n",
       "  </thead>\n",
       "  <tbody>\n",
       "    <tr>\n",
       "      <th>0</th>\n",
       "      <td>1998</td>\n",
       "      <td>Acre</td>\n",
       "      <td>Janeiro</td>\n",
       "      <td>0.0</td>\n",
       "      <td>1998-01-01</td>\n",
       "      <td>0</td>\n",
       "      <td>0</td>\n",
       "    </tr>\n",
       "    <tr>\n",
       "      <th>1</th>\n",
       "      <td>1999</td>\n",
       "      <td>Acre</td>\n",
       "      <td>Janeiro</td>\n",
       "      <td>0.0</td>\n",
       "      <td>1999-01-01</td>\n",
       "      <td>0</td>\n",
       "      <td>0</td>\n",
       "    </tr>\n",
       "    <tr>\n",
       "      <th>2</th>\n",
       "      <td>2000</td>\n",
       "      <td>Acre</td>\n",
       "      <td>Janeiro</td>\n",
       "      <td>0.0</td>\n",
       "      <td>2000-01-01</td>\n",
       "      <td>0</td>\n",
       "      <td>0</td>\n",
       "    </tr>\n",
       "    <tr>\n",
       "      <th>3</th>\n",
       "      <td>2001</td>\n",
       "      <td>Acre</td>\n",
       "      <td>Janeiro</td>\n",
       "      <td>0.0</td>\n",
       "      <td>2001-01-01</td>\n",
       "      <td>0</td>\n",
       "      <td>0</td>\n",
       "    </tr>\n",
       "    <tr>\n",
       "      <th>4</th>\n",
       "      <td>2002</td>\n",
       "      <td>Acre</td>\n",
       "      <td>Janeiro</td>\n",
       "      <td>0.0</td>\n",
       "      <td>2002-01-01</td>\n",
       "      <td>0</td>\n",
       "      <td>0</td>\n",
       "    </tr>\n",
       "    <tr>\n",
       "      <th>5</th>\n",
       "      <td>2003</td>\n",
       "      <td>Acre</td>\n",
       "      <td>Janeiro</td>\n",
       "      <td>10.0</td>\n",
       "      <td>2003-01-01</td>\n",
       "      <td>0</td>\n",
       "      <td>0</td>\n",
       "    </tr>\n",
       "    <tr>\n",
       "      <th>6</th>\n",
       "      <td>2004</td>\n",
       "      <td>Acre</td>\n",
       "      <td>Janeiro</td>\n",
       "      <td>0.0</td>\n",
       "      <td>2004-01-01</td>\n",
       "      <td>0</td>\n",
       "      <td>0</td>\n",
       "    </tr>\n",
       "    <tr>\n",
       "      <th>7</th>\n",
       "      <td>2005</td>\n",
       "      <td>Acre</td>\n",
       "      <td>Janeiro</td>\n",
       "      <td>12.0</td>\n",
       "      <td>2005-01-01</td>\n",
       "      <td>0</td>\n",
       "      <td>0</td>\n",
       "    </tr>\n",
       "    <tr>\n",
       "      <th>8</th>\n",
       "      <td>2006</td>\n",
       "      <td>Acre</td>\n",
       "      <td>Janeiro</td>\n",
       "      <td>4.0</td>\n",
       "      <td>2006-01-01</td>\n",
       "      <td>0</td>\n",
       "      <td>0</td>\n",
       "    </tr>\n",
       "    <tr>\n",
       "      <th>9</th>\n",
       "      <td>2007</td>\n",
       "      <td>Acre</td>\n",
       "      <td>Janeiro</td>\n",
       "      <td>0.0</td>\n",
       "      <td>2007-01-01</td>\n",
       "      <td>0</td>\n",
       "      <td>0</td>\n",
       "    </tr>\n",
       "  </tbody>\n",
       "</table>\n",
       "</div>"
      ],
      "text/plain": [
       "   year state    month  number        date  regiao_sudeste  \\\n",
       "0  1998  Acre  Janeiro     0.0  1998-01-01               0   \n",
       "1  1999  Acre  Janeiro     0.0  1999-01-01               0   \n",
       "2  2000  Acre  Janeiro     0.0  2000-01-01               0   \n",
       "3  2001  Acre  Janeiro     0.0  2001-01-01               0   \n",
       "4  2002  Acre  Janeiro     0.0  2002-01-01               0   \n",
       "5  2003  Acre  Janeiro    10.0  2003-01-01               0   \n",
       "6  2004  Acre  Janeiro     0.0  2004-01-01               0   \n",
       "7  2005  Acre  Janeiro    12.0  2005-01-01               0   \n",
       "8  2006  Acre  Janeiro     4.0  2006-01-01               0   \n",
       "9  2007  Acre  Janeiro     0.0  2007-01-01               0   \n",
       "\n",
       "   regiao_centro-oeste  \n",
       "0                    0  \n",
       "1                    0  \n",
       "2                    0  \n",
       "3                    0  \n",
       "4                    0  \n",
       "5                    0  \n",
       "6                    0  \n",
       "7                    0  \n",
       "8                    0  \n",
       "9                    0  "
      ]
     },
     "execution_count": 95,
     "metadata": {},
     "output_type": "execute_result"
    }
   ],
   "source": [
    "df_2.head(10)"
   ]
  },
  {
   "cell_type": "code",
   "execution_count": 103,
   "id": "2fadcdfd-02d5-4592-8fef-26daee6794a6",
   "metadata": {},
   "outputs": [],
   "source": [
    "#Incêndios por região\n",
    "incendios_CO = df_2.loc[df_2['regiao_centro-oeste'] == 1, 'number']\n",
    "incendios_SUD = df_2.loc[df_2['regiao_sudeste'] == 1, 'number']"
   ]
  },
  {
   "cell_type": "code",
   "execution_count": 109,
   "id": "4449c5ba-88db-40d0-99ea-774c5c546a30",
   "metadata": {},
   "outputs": [
    {
     "name": "stdout",
     "output_type": "stream",
     "text": [
      "Total de incêndios no Sudeste: 140303.32\n",
      "Total de incêndios no Centro-Oeste: 137502.55\n",
      "\n",
      "Sudeste apresenta mais incêndios no total por um diferença de 2800.77\n"
     ]
    }
   ],
   "source": [
    "print(f\"Total de incêndios no Sudeste: {incendios_SUD.sum():.2f}\")\n",
    "print(f\"Total de incêndios no Centro-Oeste: {incendios_CO.sum():.2f}\")\n",
    "\n",
    "print(f\"\\nSudeste apresenta mais incêndios no total por um diferença de {incendios_SUD.sum() - incendios_CO.sum():.2f}\")"
   ]
  },
  {
   "cell_type": "markdown",
   "id": "d05a2528-92db-41f6-b2ac-5af59f3345a1",
   "metadata": {},
   "source": [
    "Essa diferença pode ser devida à maior densidade populacional e atividade econômica/industrial mais intensa na região Sudeste."
   ]
  }
 ],
 "metadata": {
  "kernelspec": {
   "display_name": "Python [conda env:base] *",
   "language": "python",
   "name": "conda-base-py"
  },
  "language_info": {
   "codemirror_mode": {
    "name": "ipython",
    "version": 3
   },
   "file_extension": ".py",
   "mimetype": "text/x-python",
   "name": "python",
   "nbconvert_exporter": "python",
   "pygments_lexer": "ipython3",
   "version": "3.12.7"
  }
 },
 "nbformat": 4,
 "nbformat_minor": 5
}
